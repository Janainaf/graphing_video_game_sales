{
 "cells": [
  {
   "cell_type": "code",
   "execution_count": 7,
   "id": "5b630244",
   "metadata": {},
   "outputs": [
    {
     "name": "stdout",
     "output_type": "stream",
     "text": [
      "Requirement already satisfied: pip in /home/janaina/anaconda3/lib/python3.9/site-packages (21.2.4)\n",
      "Collecting pip\n",
      "  Downloading pip-22.0.4-py3-none-any.whl (2.1 MB)\n",
      "\u001b[K     |████████████████████████████████| 2.1 MB 5.6 MB/s eta 0:00:01\n",
      "\u001b[?25hInstalling collected packages: pip\n",
      "  Attempting uninstall: pip\n",
      "    Found existing installation: pip 21.2.4\n",
      "    Uninstalling pip-21.2.4:\n",
      "      Successfully uninstalled pip-21.2.4\n",
      "Successfully installed pip-22.0.4\n",
      "Requirement already satisfied: msgpack in /home/janaina/anaconda3/lib/python3.9/site-packages (1.0.2)\n",
      "Requirement already satisfied: matplotlib in /home/janaina/anaconda3/lib/python3.9/site-packages (3.5.1)\n",
      "Requirement already satisfied: numpy>=1.17 in /home/janaina/anaconda3/lib/python3.9/site-packages (from matplotlib) (1.21.5)\n",
      "Requirement already satisfied: cycler>=0.10 in /home/janaina/anaconda3/lib/python3.9/site-packages (from matplotlib) (0.11.0)\n",
      "Requirement already satisfied: packaging>=20.0 in /home/janaina/anaconda3/lib/python3.9/site-packages (from matplotlib) (21.3)\n",
      "Requirement already satisfied: fonttools>=4.22.0 in /home/janaina/anaconda3/lib/python3.9/site-packages (from matplotlib) (4.25.0)\n",
      "Requirement already satisfied: pillow>=6.2.0 in /home/janaina/anaconda3/lib/python3.9/site-packages (from matplotlib) (9.0.1)\n",
      "Requirement already satisfied: pyparsing>=2.2.1 in /home/janaina/anaconda3/lib/python3.9/site-packages (from matplotlib) (3.0.4)\n",
      "Requirement already satisfied: kiwisolver>=1.0.1 in /home/janaina/anaconda3/lib/python3.9/site-packages (from matplotlib) (1.3.2)\n",
      "Requirement already satisfied: python-dateutil>=2.7 in /home/janaina/anaconda3/lib/python3.9/site-packages (from matplotlib) (2.8.2)\n",
      "Requirement already satisfied: six>=1.5 in /home/janaina/anaconda3/lib/python3.9/site-packages (from python-dateutil>=2.7->matplotlib) (1.16.0)\n"
     ]
    }
   ],
   "source": [
    "import sys\n",
    "!{sys.executable} -m pip install --upgrade pip\n",
    "!{sys.executable} -m pip install msgpack\n",
    "!{sys.executable} -m pip install matplotlib\n",
    "%matplotlib inline\n"
   ]
  },
  {
   "cell_type": "markdown",
   "id": "2f055d45",
   "metadata": {},
   "source": [
    "Import Pandas, Matplotlib, and Seaborn at the top of your file along with your CSV data\n"
   ]
  },
  {
   "cell_type": "code",
   "execution_count": 281,
   "id": "9bd93bc7",
   "metadata": {},
   "outputs": [],
   "source": [
    "import pandas as pd\n",
    "import matplotlib.pyplot as plt\n",
    "import seaborn as sns\n",
    "sns.set_theme()\n",
    "top100 = pd.read_csv('top100videogamesales.csv', index_col=1)\n"
   ]
  },
  {
   "cell_type": "code",
   "execution_count": 282,
   "id": "522b56f3",
   "metadata": {},
   "outputs": [
    {
     "data": {
      "text/html": [
       "<div>\n",
       "<style scoped>\n",
       "    .dataframe tbody tr th:only-of-type {\n",
       "        vertical-align: middle;\n",
       "    }\n",
       "\n",
       "    .dataframe tbody tr th {\n",
       "        vertical-align: top;\n",
       "    }\n",
       "\n",
       "    .dataframe thead th {\n",
       "        text-align: right;\n",
       "    }\n",
       "</style>\n",
       "<table border=\"1\" class=\"dataframe\">\n",
       "  <thead>\n",
       "    <tr style=\"text-align: right;\">\n",
       "      <th></th>\n",
       "      <th>Rank</th>\n",
       "      <th>Platform</th>\n",
       "      <th>Year</th>\n",
       "      <th>Genre</th>\n",
       "      <th>Publisher</th>\n",
       "      <th>NA_Sales</th>\n",
       "      <th>EU_Sales</th>\n",
       "      <th>JP_Sales</th>\n",
       "      <th>Other_Sales</th>\n",
       "      <th>Global_Sales</th>\n",
       "    </tr>\n",
       "    <tr>\n",
       "      <th>Name</th>\n",
       "      <th></th>\n",
       "      <th></th>\n",
       "      <th></th>\n",
       "      <th></th>\n",
       "      <th></th>\n",
       "      <th></th>\n",
       "      <th></th>\n",
       "      <th></th>\n",
       "      <th></th>\n",
       "      <th></th>\n",
       "    </tr>\n",
       "  </thead>\n",
       "  <tbody>\n",
       "    <tr>\n",
       "      <th>Wii Sports</th>\n",
       "      <td>1</td>\n",
       "      <td>Nintendo</td>\n",
       "      <td>2006</td>\n",
       "      <td>Sports</td>\n",
       "      <td>Nintendo</td>\n",
       "      <td>41.49</td>\n",
       "      <td>29.02</td>\n",
       "      <td>3.77</td>\n",
       "      <td>8.46</td>\n",
       "      <td>82.74</td>\n",
       "    </tr>\n",
       "    <tr>\n",
       "      <th>Mario Kart Wii</th>\n",
       "      <td>2</td>\n",
       "      <td>Nintendo</td>\n",
       "      <td>2008</td>\n",
       "      <td>Racing</td>\n",
       "      <td>Nintendo</td>\n",
       "      <td>15.85</td>\n",
       "      <td>12.88</td>\n",
       "      <td>3.79</td>\n",
       "      <td>3.31</td>\n",
       "      <td>35.82</td>\n",
       "    </tr>\n",
       "    <tr>\n",
       "      <th>Wii Sports Resort</th>\n",
       "      <td>3</td>\n",
       "      <td>Nintendo</td>\n",
       "      <td>2009</td>\n",
       "      <td>Sports</td>\n",
       "      <td>Nintendo</td>\n",
       "      <td>15.75</td>\n",
       "      <td>11.01</td>\n",
       "      <td>3.28</td>\n",
       "      <td>2.96</td>\n",
       "      <td>33.00</td>\n",
       "    </tr>\n",
       "    <tr>\n",
       "      <th>New Super Mario Bros.</th>\n",
       "      <td>4</td>\n",
       "      <td>Nintendo</td>\n",
       "      <td>2006</td>\n",
       "      <td>Platform</td>\n",
       "      <td>Nintendo</td>\n",
       "      <td>11.38</td>\n",
       "      <td>9.23</td>\n",
       "      <td>6.50</td>\n",
       "      <td>2.90</td>\n",
       "      <td>30.01</td>\n",
       "    </tr>\n",
       "    <tr>\n",
       "      <th>Wii Play</th>\n",
       "      <td>5</td>\n",
       "      <td>Nintendo</td>\n",
       "      <td>2006</td>\n",
       "      <td>Misc</td>\n",
       "      <td>Nintendo</td>\n",
       "      <td>14.03</td>\n",
       "      <td>9.20</td>\n",
       "      <td>2.93</td>\n",
       "      <td>2.85</td>\n",
       "      <td>29.02</td>\n",
       "    </tr>\n",
       "  </tbody>\n",
       "</table>\n",
       "</div>"
      ],
      "text/plain": [
       "                       Rank  Platform  Year     Genre Publisher  NA_Sales  \\\n",
       "Name                                                                        \n",
       "Wii Sports                1  Nintendo  2006    Sports  Nintendo     41.49   \n",
       "Mario Kart Wii            2  Nintendo  2008    Racing  Nintendo     15.85   \n",
       "Wii Sports Resort         3  Nintendo  2009    Sports  Nintendo     15.75   \n",
       "New Super Mario Bros.     4  Nintendo  2006  Platform  Nintendo     11.38   \n",
       "Wii Play                  5  Nintendo  2006      Misc  Nintendo     14.03   \n",
       "\n",
       "                       EU_Sales  JP_Sales  Other_Sales  Global_Sales  \n",
       "Name                                                                  \n",
       "Wii Sports                29.02      3.77         8.46         82.74  \n",
       "Mario Kart Wii            12.88      3.79         3.31         35.82  \n",
       "Wii Sports Resort         11.01      3.28         2.96         33.00  \n",
       "New Super Mario Bros.      9.23      6.50         2.90         30.01  \n",
       "Wii Play                   9.20      2.93         2.85         29.02  "
      ]
     },
     "execution_count": 282,
     "metadata": {},
     "output_type": "execute_result"
    }
   ],
   "source": [
    "top100.head()"
   ]
  },
  {
   "cell_type": "markdown",
   "id": "c7666723",
   "metadata": {},
   "source": [
    "### 1) Regional Sales by Publisher: Create a stacked column (or bar) chart to show the sales by region for each publisher in the data. Explain your chart with markdown and detail which publisher had the most sales."
   ]
  },
  {
   "cell_type": "code",
   "execution_count": 466,
   "id": "53a02bd4",
   "metadata": {},
   "outputs": [
    {
     "name": "stdout",
     "output_type": "stream",
     "text": [
      "                             NA_Sales  EU_Sales  JP_Sales  Other_Sales\n",
      "Publisher                                                             \n",
      "Nintendo                       273.32    204.49    122.35        53.03\n",
      "Activision                      94.67     59.91      3.72        21.64\n",
      "Take-Two Interactive            62.48     43.09      3.56        26.62\n",
      "Microsoft Game Studios          53.15     18.39      0.62         5.88\n",
      "Electronic Arts                 24.71     47.41      1.38        14.72\n",
      "Sony Computer Entertainment     21.77     17.10      6.91        13.20\n",
      "Ubisoft                         19.54     11.28      0.01         3.14\n",
      "Bethesda Softworks              10.05      8.72      0.59         3.00\n",
      "505 Games                        3.50      2.64      0.00         0.67\n",
      "Sega                             2.58      3.90      0.66         0.91\n"
     ]
    },
    {
     "data": {
      "image/png": "[encoded data removed]",
      "text/plain": [
       "<Figure size 432x288 with 1 Axes>"
      ]
     },
     "metadata": {},
     "output_type": "display_data"
    },
    {
     "data": {
      "image/png": "[encoded data removed]",
      "text/plain": [
       "<Figure size 432x288 with 1 Axes>"
      ]
     },
     "metadata": {},
     "output_type": "display_data"
    }
   ],
   "source": [
    "sales = top100.groupby(\"Publisher\")[[\"NA_Sales\",\"EU_Sales\", \"JP_Sales\", \"Other_Sales\", \"Publisher\" ]].sum().sort_values(by=['NA_Sales'], ascending=False)\n",
    "print(sales)\n",
    "sales.plot.bar( stacked=True)\n",
    "\n",
    "table = pd.pivot_table(sales, columns='Publisher', values=[\"NA_Sales\",\"EU_Sales\", \"JP_Sales\", \"Other_Sales\"], aggfunc='sum')\n",
    "table.plot.bar(stacked=True, colormap='tab20', )\n",
    "plt.legend(loc='center left', bbox_to_anchor=(1.0, 0.5));\n",
    "\n"
   ]
  },
  {
   "cell_type": "markdown",
   "id": "8d3d78df",
   "metadata": {},
   "source": [
    "### 2\n",
    "#### Global Sales by Year: Create a line chart to show the total global sales for each year. Explain the result of the chart in markdown."
   ]
  },
  {
   "cell_type": "code",
   "execution_count": 276,
   "id": "a2f41da9",
   "metadata": {},
   "outputs": [
    {
     "data": {
      "text/plain": [
       "Name\n",
       "Wii Sports                   82.74\n",
       "Mario Kart Wii               35.82\n",
       "Wii Sports Resort            33.00\n",
       "New Super Mario Bros.        30.01\n",
       "Wii Play                     29.02\n",
       "                             ...  \n",
       "Super Smash Bros. Melee       7.07\n",
       "Mario Kart 8                  6.96\n",
       "Fallout 4                     6.96\n",
       "Mario Kart: Double Dash!!     6.95\n",
       "Medal of Honor: Frontline     6.83\n",
       "Name: Global_Sales, Length: 69, dtype: float64"
      ]
     },
     "execution_count": 276,
     "metadata": {},
     "output_type": "execute_result"
    }
   ],
   "source": [
    "years = top100.groupby(\"Year\")[\"Global_Sales\"]\n",
    "years.head()\n"
   ]
  },
  {
   "cell_type": "markdown",
   "id": "205aa351",
   "metadata": {},
   "source": [
    "### 3\n",
    "#### Global Sales Distribution for Action Games: Create a histogram to show the global sales distribution for games with Action as the genre. Explain the chart with markdown."
   ]
  },
  {
   "cell_type": "code",
   "execution_count": null,
   "id": "a0422ec3",
   "metadata": {},
   "outputs": [],
   "source": []
  },
  {
   "cell_type": "markdown",
   "id": "481e56f6",
   "metadata": {},
   "source": [
    "### 4\n",
    "#### North American Sales by Genre: Create a pie chart to show the percentage of sales each genre had in the North American market. (Group smaller “slices” together into an “other” category to create an easier to read chart) Detail what is included in the other category. Explain the chart using markdown."
   ]
  },
  {
   "cell_type": "code",
   "execution_count": null,
   "id": "f29f6274",
   "metadata": {},
   "outputs": [],
   "source": []
  },
  {
   "cell_type": "markdown",
   "id": "e0778a9b",
   "metadata": {},
   "source": [
    "### 5\n",
    "#### European Sales by Genre: Create a pie chart to show the percentage of sales each genre had in the European market. (Group smaller “slices” together into an “other” category to create an easier to read chart) Detail what is included in the other category. Explain the chart using markdown.\n"
   ]
  },
  {
   "cell_type": "code",
   "execution_count": null,
   "id": "af9fcea8",
   "metadata": {},
   "outputs": [],
   "source": []
  },
  {
   "cell_type": "markdown",
   "id": "716e771f",
   "metadata": {},
   "source": [
    "### 6\n",
    "#### Explain differences and similarities between the North American and European charts in markdown.\n"
   ]
  },
  {
   "cell_type": "code",
   "execution_count": null,
   "id": "d37f1632",
   "metadata": {},
   "outputs": [],
   "source": []
  },
  {
   "cell_type": "markdown",
   "id": "4c7c0bbb",
   "metadata": {},
   "source": [
    "### 7\n",
    "#### Count of Games by Platform: Create a bar (or column) chart to show the total number of games created for each platform in the dataset. Explain the results in markdown."
   ]
  }
 ],
 "metadata": {
  "kernelspec": {
   "display_name": "Python 3 (ipykernel)",
   "language": "python",
   "name": "python3"
  },
  "language_info": {
   "codemirror_mode": {
    "name": "ipython",
    "version": 3
   },
   "file_extension": ".py",
   "mimetype": "text/x-python",
   "name": "python",
   "nbconvert_exporter": "python",
   "pygments_lexer": "ipython3",
   "version": "3.9.7"
  }
 },
 "nbformat": 4,
 "nbformat_minor": 5
}
